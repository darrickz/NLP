{
 "cells": [
  {
   "cell_type": "markdown",
   "metadata": {
    "collapsed": true
   },
   "source": [
    "# Artificial Intelligence Nanodegree\n",
    "## Machine Translation Project\n",
    "In this notebook, sections that end with **'(IMPLEMENTATION)'** in the header indicate that the following blocks of code will require additional functionality which you must provide. Please be sure to read the instructions carefully!\n",
    "\n",
    "## Introduction\n",
    "In this notebook, you will build a deep neural network that functions as part of an end-to-end machine translation pipeline. Your completed pipeline will accept English text as input and return the French translation.\n",
    "\n",
    "- **Preprocess** - You'll convert text to sequence of integers.\n",
    "- **Models** Create models which accepts a sequence of integers as input and returns a probability distribution over possible translations. After learning about the basic types of neural networks that are often used for machine translation, you will engage in your own investigations, to design your own model!\n",
    "- **Prediction** Run the model on English text."
   ]
  },
  {
   "cell_type": "code",
   "execution_count": 1,
   "metadata": {
    "scrolled": true
   },
   "outputs": [],
   "source": [
    "%load_ext autoreload\n",
    "%aimport helper, tests\n",
    "%autoreload 1"
   ]
  },
  {
   "cell_type": "code",
   "execution_count": 2,
   "metadata": {
    "scrolled": true
   },
   "outputs": [
    {
     "name": "stderr",
     "output_type": "stream",
     "text": [
      "Using TensorFlow backend.\n"
     ]
    }
   ],
   "source": [
    "import collections\n",
    "\n",
    "import helper\n",
    "import numpy as np\n",
    "import project_tests as tests\n",
    "\n",
    "from keras.preprocessing.text import Tokenizer\n",
    "from keras.preprocessing.sequence import pad_sequences\n",
    "from keras.models import Model\n",
    "from keras.layers import GRU, Input, Dense, TimeDistributed, Activation, RepeatVector, Bidirectional\n",
    "from keras.layers.embeddings import Embedding\n",
    "from keras.optimizers import Adam\n",
    "from keras.losses import sparse_categorical_crossentropy"
   ]
  },
  {
   "cell_type": "markdown",
   "metadata": {},
   "source": [
    "### Verify access to the GPU\n",
    "The following test applies only if you expect to be using a GPU, e.g., while running in a Udacity Workspace or using an AWS instance with GPU support. Run the next cell, and verify that the device_type is \"GPU\".\n",
    "- If the device is not GPU & you are running from a Udacity Workspace, then save your workspace with the icon at the top, then click \"enable\" at the bottom of the workspace.\n",
    "- If the device is not GPU & you are running from an AWS instance, then refer to the cloud computing instructions in the classroom to verify your setup steps."
   ]
  },
  {
   "cell_type": "code",
   "execution_count": 3,
   "metadata": {
    "scrolled": true
   },
   "outputs": [
    {
     "name": "stdout",
     "output_type": "stream",
     "text": [
      "[name: \"/cpu:0\"\n",
      "device_type: \"CPU\"\n",
      "memory_limit: 268435456\n",
      "locality {\n",
      "}\n",
      "incarnation: 1442590205933883327\n",
      ", name: \"/gpu:0\"\n",
      "device_type: \"GPU\"\n",
      "memory_limit: 357433344\n",
      "locality {\n",
      "  bus_id: 1\n",
      "}\n",
      "incarnation: 5595415826393377318\n",
      "physical_device_desc: \"device: 0, name: Tesla K80, pci bus id: 0000:00:04.0\"\n",
      "]\n"
     ]
    }
   ],
   "source": [
    "from tensorflow.python.client import device_lib\n",
    "print(device_lib.list_local_devices())"
   ]
  },
  {
   "cell_type": "markdown",
   "metadata": {},
   "source": [
    "## Dataset\n",
    "We begin by investigating the dataset that will be used to train and evaluate your pipeline.  The most common datasets used for machine translation are from [WMT](http://www.statmt.org/).  However, that will take a long time to train a neural network on.  We'll be using a dataset we created for this project that contains a small vocabulary.  You'll be able to train your model in a reasonable time with this dataset.\n",
    "### Load Data\n",
    "The data is located in `data/small_vocab_en` and `data/small_vocab_fr`. The `small_vocab_en` file contains English sentences with their French translations in the `small_vocab_fr` file. Load the English and French data from these files from running the cell below."
   ]
  },
  {
   "cell_type": "code",
   "execution_count": 4,
   "metadata": {
    "scrolled": true
   },
   "outputs": [
    {
     "name": "stdout",
     "output_type": "stream",
     "text": [
      "Dataset Loaded\n"
     ]
    }
   ],
   "source": [
    "# Load English data\n",
    "english_sentences = helper.load_data('data/small_vocab_en')\n",
    "# Load French data\n",
    "french_sentences = helper.load_data('data/small_vocab_fr')\n",
    "\n",
    "print('Dataset Loaded')"
   ]
  },
  {
   "cell_type": "markdown",
   "metadata": {},
   "source": [
    "### Files\n",
    "Each line in `small_vocab_en` contains an English sentence with the respective translation in each line of `small_vocab_fr`.  View the first two lines from each file."
   ]
  },
  {
   "cell_type": "code",
   "execution_count": 5,
   "metadata": {
    "scrolled": true
   },
   "outputs": [
    {
     "name": "stdout",
     "output_type": "stream",
     "text": [
      "small_vocab_en Line 1:  new jersey is sometimes quiet during autumn , and it is snowy in april .\n",
      "small_vocab_fr Line 1:  new jersey est parfois calme pendant l' automne , et il est neigeux en avril .\n",
      "small_vocab_en Line 2:  the united states is usually chilly during july , and it is usually freezing in november .\n",
      "small_vocab_fr Line 2:  les états-unis est généralement froid en juillet , et il gèle habituellement en novembre .\n"
     ]
    }
   ],
   "source": [
    "for sample_i in range(2):\n",
    "    print('small_vocab_en Line {}:  {}'.format(sample_i + 1, english_sentences[sample_i]))\n",
    "    print('small_vocab_fr Line {}:  {}'.format(sample_i + 1, french_sentences[sample_i]))"
   ]
  },
  {
   "cell_type": "markdown",
   "metadata": {},
   "source": [
    "From looking at the sentences, you can see they have been preprocessed already.  The puncuations have been delimited using spaces. All the text have been converted to lowercase.  This should save you some time, but the text requires more preprocessing.\n",
    "### Vocabulary\n",
    "The complexity of the problem is determined by the complexity of the vocabulary.  A more complex vocabulary is a more complex problem.  Let's look at the complexity of the dataset we'll be working with."
   ]
  },
  {
   "cell_type": "code",
   "execution_count": 6,
   "metadata": {
    "scrolled": true
   },
   "outputs": [
    {
     "name": "stdout",
     "output_type": "stream",
     "text": [
      "1823250 English words.\n",
      "227 unique English words.\n",
      "10 Most common words in the English dataset:\n",
      "\"is\" \",\" \".\" \"in\" \"it\" \"during\" \"the\" \"but\" \"and\" \"sometimes\"\n",
      "\n",
      "1961295 French words.\n",
      "355 unique French words.\n",
      "10 Most common words in the French dataset:\n",
      "\"est\" \".\" \",\" \"en\" \"il\" \"les\" \"mais\" \"et\" \"la\" \"parfois\"\n"
     ]
    }
   ],
   "source": [
    "english_words_counter = collections.Counter([word for sentence in english_sentences for word in sentence.split()])\n",
    "french_words_counter = collections.Counter([word for sentence in french_sentences for word in sentence.split()])\n",
    "\n",
    "print('{} English words.'.format(len([word for sentence in english_sentences for word in sentence.split()])))\n",
    "print('{} unique English words.'.format(len(english_words_counter)))\n",
    "print('10 Most common words in the English dataset:')\n",
    "print('\"' + '\" \"'.join(list(zip(*english_words_counter.most_common(10)))[0]) + '\"')\n",
    "print()\n",
    "print('{} French words.'.format(len([word for sentence in french_sentences for word in sentence.split()])))\n",
    "print('{} unique French words.'.format(len(french_words_counter)))\n",
    "print('10 Most common words in the French dataset:')\n",
    "print('\"' + '\" \"'.join(list(zip(*french_words_counter.most_common(10)))[0]) + '\"')"
   ]
  },
  {
   "cell_type": "markdown",
   "metadata": {},
   "source": [
    "For comparison, _Alice's Adventures in Wonderland_ contains 2,766 unique words of a total of 15,500 words.\n",
    "## Preprocess\n",
    "For this project, you won't use text data as input to your model. Instead, you'll convert the text into sequences of integers using the following preprocess methods:\n",
    "1. Tokenize the words into ids\n",
    "2. Add padding to make all the sequences the same length.\n",
    "\n",
    "Time to start preprocessing the data...\n",
    "### Tokenize (IMPLEMENTATION)\n",
    "For a neural network to predict on text data, it first has to be turned into data it can understand. Text data like \"dog\" is a sequence of ASCII character encodings.  Since a neural network is a series of multiplication and addition operations, the input data needs to be number(s).\n",
    "\n",
    "We can turn each character into a number or each word into a number.  These are called character and word ids, respectively.  Character ids are used for character level models that generate text predictions for each character.  A word level model uses word ids that generate text predictions for each word.  Word level models tend to learn better, since they are lower in complexity, so we'll use those.\n",
    "\n",
    "Turn each sentence into a sequence of words ids using Keras's [`Tokenizer`](https://keras.io/preprocessing/text/#tokenizer) function. Use this function to tokenize `english_sentences` and `french_sentences` in the cell below.\n",
    "\n",
    "Running the cell will run `tokenize` on sample data and show output for debugging."
   ]
  },
  {
   "cell_type": "code",
   "execution_count": 7,
   "metadata": {
    "scrolled": true
   },
   "outputs": [
    {
     "name": "stdout",
     "output_type": "stream",
     "text": [
      "{'the': 1, 'quick': 2, 'a': 3, 'brown': 4, 'fox': 5, 'jumps': 6, 'over': 7, 'lazy': 8, 'dog': 9, 'by': 10, 'jove': 11, 'my': 12, 'study': 13, 'of': 14, 'lexicography': 15, 'won': 16, 'prize': 17, 'this': 18, 'is': 19, 'short': 20, 'sentence': 21}\n",
      "\n",
      "Sequence 1 in x\n",
      "  Input:  The quick brown fox jumps over the lazy dog .\n",
      "  Output: [1, 2, 4, 5, 6, 7, 1, 8, 9]\n",
      "Sequence 2 in x\n",
      "  Input:  By Jove , my quick study of lexicography won a prize .\n",
      "  Output: [10, 11, 12, 2, 13, 14, 15, 16, 3, 17]\n",
      "Sequence 3 in x\n",
      "  Input:  This is a short sentence .\n",
      "  Output: [18, 19, 3, 20, 21]\n"
     ]
    }
   ],
   "source": [
    "def tokenize(x):\n",
    "    \"\"\"\n",
    "    Tokenize x\n",
    "    :param x: List of sentences/strings to be tokenized\n",
    "    :return: Tuple of (tokenized x data, tokenizer used to tokenize x)\n",
    "    \"\"\"\n",
    "    # TODO: Implement\n",
    "    x_tk = Tokenizer()\n",
    "    x_tk.fit_on_texts(x)\n",
    "    return x_tk.texts_to_sequences(x), x_tk\n",
    "tests.test_tokenize(tokenize)\n",
    "\n",
    "# Tokenize Example output\n",
    "text_sentences = [\n",
    "    'The quick brown fox jumps over the lazy dog .',\n",
    "    'By Jove , my quick study of lexicography won a prize .',\n",
    "    'This is a short sentence .']\n",
    "text_tokenized, text_tokenizer = tokenize(text_sentences)\n",
    "print(text_tokenizer.word_index)\n",
    "print()\n",
    "for sample_i, (sent, token_sent) in enumerate(zip(text_sentences, text_tokenized)):\n",
    "    print('Sequence {} in x'.format(sample_i + 1))\n",
    "    print('  Input:  {}'.format(sent))\n",
    "    print('  Output: {}'.format(token_sent))"
   ]
  },
  {
   "cell_type": "markdown",
   "metadata": {},
   "source": [
    "### Padding (IMPLEMENTATION)\n",
    "When batching the sequence of word ids together, each sequence needs to be the same length.  Since sentences are dynamic in length, we can add padding to the end of the sequences to make them the same length.\n",
    "\n",
    "Make sure all the English sequences have the same length and all the French sequences have the same length by adding padding to the **end** of each sequence using Keras's [`pad_sequences`](https://keras.io/preprocessing/sequence/#pad_sequences) function."
   ]
  },
  {
   "cell_type": "code",
   "execution_count": 8,
   "metadata": {
    "scrolled": true
   },
   "outputs": [
    {
     "name": "stdout",
     "output_type": "stream",
     "text": [
      "Sequence 1 in x\n",
      "  Input:  [1 2 4 5 6 7 1 8 9]\n",
      "  Output: [1 2 4 5 6 7 1 8 9 0]\n",
      "Sequence 2 in x\n",
      "  Input:  [10 11 12  2 13 14 15 16  3 17]\n",
      "  Output: [10 11 12  2 13 14 15 16  3 17]\n",
      "Sequence 3 in x\n",
      "  Input:  [18 19  3 20 21]\n",
      "  Output: [18 19  3 20 21  0  0  0  0  0]\n"
     ]
    }
   ],
   "source": [
    "def pad(x, length=None,padding=\"post\"):\n",
    "    \"\"\"\n",
    "    Pad x\n",
    "    :param x: List of sequences.\n",
    "    :param length: Length to pad the sequence to.  If None, use length of longest sequence in x.\n",
    "    :return: Padded numpy array of sequences\n",
    "    \"\"\"\n",
    "    # TODO: Implement\n",
    "    if length is None:\n",
    "        length = max([len(sentence) for sentence in x])\n",
    "    return pad_sequences(x, maxlen=length, padding=padding)\n",
    "#tests.test_pad(pad)\n",
    "\n",
    "# Pad Tokenized output\n",
    "test_pad = pad(text_tokenized)\n",
    "for sample_i, (token_sent, pad_sent) in enumerate(zip(text_tokenized, test_pad)):\n",
    "    print('Sequence {} in x'.format(sample_i + 1))\n",
    "    print('  Input:  {}'.format(np.array(token_sent)))\n",
    "    print('  Output: {}'.format(pad_sent))"
   ]
  },
  {
   "cell_type": "markdown",
   "metadata": {},
   "source": [
    "### Preprocess Pipeline\n",
    "Your focus for this project is to build neural network architecture, so we won't ask you to create a preprocess pipeline.  Instead, we've provided you with the implementation of the `preprocess` function."
   ]
  },
  {
   "cell_type": "code",
   "execution_count": 9,
   "metadata": {
    "scrolled": true
   },
   "outputs": [
    {
     "name": "stdout",
     "output_type": "stream",
     "text": [
      "Data Preprocessed\n",
      "Max English sentence length: 15\n",
      "Max French sentence length: 21\n",
      "English vocabulary size: 199\n",
      "French vocabulary size: 344\n"
     ]
    }
   ],
   "source": [
    "def preprocess(x, y,padding=\"post\"):\n",
    "    \"\"\"\n",
    "    Preprocess x and y\n",
    "    :param x: Feature List of sentences\n",
    "    :param y: Label List of sentences\n",
    "    :return: Tuple of (Preprocessed x, Preprocessed y, x tokenizer, y tokenizer)\n",
    "    \"\"\"\n",
    "    preprocess_x, x_tk = tokenize(x)\n",
    "    preprocess_y, y_tk = tokenize(y)\n",
    "\n",
    "    preprocess_x = pad(preprocess_x,padding=padding)\n",
    "    preprocess_y = pad(preprocess_y,padding=padding)\n",
    "\n",
    "    # Keras's sparse_categorical_crossentropy function requires the labels to be in 3 dimensions\n",
    "    preprocess_y = preprocess_y.reshape(*preprocess_y.shape, 1)\n",
    "\n",
    "    return preprocess_x, preprocess_y, x_tk, y_tk\n",
    "\n",
    "preproc_english_sentences, preproc_french_sentences, english_tokenizer, french_tokenizer =\\\n",
    "    preprocess(english_sentences, french_sentences)\n",
    "    \n",
    "max_english_sequence_length = preproc_english_sentences.shape[1]\n",
    "max_french_sequence_length = preproc_french_sentences.shape[1]\n",
    "english_vocab_size = len(english_tokenizer.word_index)\n",
    "french_vocab_size = len(french_tokenizer.word_index)\n",
    "\n",
    "print('Data Preprocessed')\n",
    "print(\"Max English sentence length:\", max_english_sequence_length)\n",
    "print(\"Max French sentence length:\", max_french_sequence_length)\n",
    "print(\"English vocabulary size:\", english_vocab_size)\n",
    "print(\"French vocabulary size:\", french_vocab_size)"
   ]
  },
  {
   "cell_type": "markdown",
   "metadata": {},
   "source": [
    "## Models\n",
    "In this section, you will experiment with various neural network architectures.\n",
    "You will begin by training four relatively simple architectures.\n",
    "- Model 1 is a simple RNN\n",
    "- Model 2 is a RNN with Embedding\n",
    "- Model 3 is a Bidirectional RNN\n",
    "- Model 4 is an optional Encoder-Decoder RNN\n",
    "\n",
    "After experimenting with the four simple architectures, you will construct a deeper architecture that is designed to outperform all four models.\n",
    "### Ids Back to Text\n",
    "The neural network will be translating the input to words ids, which isn't the final form we want.  We want the French translation.  The function `logits_to_text` will bridge the gab between the logits from the neural network to the French translation.  You'll be using this function to better understand the output of the neural network."
   ]
  },
  {
   "cell_type": "code",
   "execution_count": 10,
   "metadata": {
    "scrolled": true
   },
   "outputs": [
    {
     "name": "stdout",
     "output_type": "stream",
     "text": [
      "`logits_to_text` function loaded.\n"
     ]
    }
   ],
   "source": [
    "def logits_to_text(logits, tokenizer):\n",
    "    \"\"\"\n",
    "    Turn logits from a neural network into text using the tokenizer\n",
    "    :param logits: Logits from a neural network\n",
    "    :param tokenizer: Keras Tokenizer fit on the labels\n",
    "    :return: String that represents the text of the logits\n",
    "    \"\"\"\n",
    "    index_to_words = {id: word for word, id in tokenizer.word_index.items()}\n",
    "    index_to_words[0] = '<PAD>'\n",
    "\n",
    "    return ' '.join([index_to_words[prediction] for prediction in np.argmax(logits, 1)])\n",
    "\n",
    "print('`logits_to_text` function loaded.')"
   ]
  },
  {
   "cell_type": "markdown",
   "metadata": {},
   "source": [
    "### Model 1: RNN (IMPLEMENTATION)\n",
    "![RNN](images/rnn.png)\n",
    "A basic RNN model is a good baseline for sequence data.  In this model, you'll build a RNN that translates English to French."
   ]
  },
  {
   "cell_type": "code",
   "execution_count": 11,
   "metadata": {
    "scrolled": false
   },
   "outputs": [
    {
     "name": "stdout",
     "output_type": "stream",
     "text": [
      "Train on 110288 samples, validate on 27573 samples\n",
      "Epoch 1/20\n",
      "110288/110288 [==============================] - 10s 90us/step - loss: 2.6180 - acc: 0.4731 - val_loss: nan - val_acc: 0.5497\n",
      "Epoch 2/20\n",
      "110288/110288 [==============================] - 8s 72us/step - loss: 1.6944 - acc: 0.5819 - val_loss: nan - val_acc: 0.6035\n",
      "Epoch 3/20\n",
      "110288/110288 [==============================] - 8s 72us/step - loss: 1.4540 - acc: 0.6115 - val_loss: nan - val_acc: 0.6220\n",
      "Epoch 4/20\n",
      "110288/110288 [==============================] - 8s 72us/step - loss: 1.3256 - acc: 0.6311 - val_loss: nan - val_acc: 0.6406\n",
      "Epoch 5/20\n",
      "110288/110288 [==============================] - 8s 73us/step - loss: 1.2355 - acc: 0.6470 - val_loss: nan - val_acc: 0.6530\n",
      "Epoch 6/20\n",
      "110288/110288 [==============================] - 8s 72us/step - loss: 1.1738 - acc: 0.6578 - val_loss: nan - val_acc: 0.6606\n",
      "Epoch 7/20\n",
      "110288/110288 [==============================] - 8s 72us/step - loss: 1.1297 - acc: 0.6644 - val_loss: nan - val_acc: 0.6699\n",
      "Epoch 8/20\n",
      "110288/110288 [==============================] - 8s 72us/step - loss: 1.0929 - acc: 0.6695 - val_loss: nan - val_acc: 0.6730\n",
      "Epoch 9/20\n",
      "110288/110288 [==============================] - 8s 72us/step - loss: 1.0640 - acc: 0.6721 - val_loss: nan - val_acc: 0.6753\n",
      "Epoch 10/20\n",
      "110288/110288 [==============================] - 8s 73us/step - loss: 1.0382 - acc: 0.6757 - val_loss: nan - val_acc: 0.6775\n",
      "Epoch 11/20\n",
      "110288/110288 [==============================] - 8s 72us/step - loss: 1.0184 - acc: 0.6779 - val_loss: nan - val_acc: 0.6809\n",
      "Epoch 12/20\n",
      "110288/110288 [==============================] - 8s 73us/step - loss: 0.9977 - acc: 0.6810 - val_loss: nan - val_acc: 0.6872\n",
      "Epoch 13/20\n",
      "110288/110288 [==============================] - 8s 72us/step - loss: 0.9806 - acc: 0.6840 - val_loss: nan - val_acc: 0.6888\n",
      "Epoch 14/20\n",
      "110288/110288 [==============================] - 8s 72us/step - loss: 0.9626 - acc: 0.6879 - val_loss: nan - val_acc: 0.6879\n",
      "Epoch 15/20\n",
      "110288/110288 [==============================] - 8s 73us/step - loss: 0.9471 - acc: 0.6909 - val_loss: nan - val_acc: 0.6936\n",
      "Epoch 16/20\n",
      "110288/110288 [==============================] - 8s 73us/step - loss: 0.9311 - acc: 0.6953 - val_loss: nan - val_acc: 0.6998\n",
      "Epoch 17/20\n",
      "110288/110288 [==============================] - 8s 72us/step - loss: 0.9177 - acc: 0.6987 - val_loss: nan - val_acc: 0.6973\n",
      "Epoch 18/20\n",
      "110288/110288 [==============================] - 8s 72us/step - loss: 0.9035 - acc: 0.7022 - val_loss: nan - val_acc: 0.7056\n",
      "Epoch 19/20\n",
      "110288/110288 [==============================] - 8s 72us/step - loss: 0.8898 - acc: 0.7070 - val_loss: nan - val_acc: 0.7109\n",
      "Epoch 20/20\n",
      "110288/110288 [==============================] - 8s 72us/step - loss: 0.8760 - acc: 0.7117 - val_loss: nan - val_acc: 0.7118\n",
      "new jersey est parfois calme en mois de mai et il est en en <PAD> <PAD> <PAD> <PAD> <PAD> <PAD> <PAD>\n",
      "The ground truth is\n",
      "new jersey est parfois calme pendant l' automne , et il est neigeux en avril .\n"
     ]
    }
   ],
   "source": [
    "def simple_model(input_shape, output_sequence_length, english_vocab_size, french_vocab_size):\n",
    "    \"\"\"\n",
    "    Build and train a basic RNN on x and y\n",
    "    :param input_shape: Tuple of input shape\n",
    "    :param output_sequence_length: Length of output sequence\n",
    "    :param english_vocab_size: Number of unique English words in the dataset\n",
    "    :param french_vocab_size: Number of unique French words in the dataset\n",
    "    :return: Keras model built, but not trained\n",
    "    \"\"\"\n",
    "    # TODO: Build the layers\n",
    "    learning_rate = 0.2e-2\n",
    "    input_seq = Input(input_shape[1:])  #input_seq.shape=(?, 21, 1)\n",
    "    rnn1 = GRU(128,return_sequences=True)(input_seq) #rnn.shape =(?, ?, 128)\n",
    "    logits = TimeDistributed(Dense(french_vocab_size))(rnn1)  #logits=(?, 21, 344)\n",
    "    model = Model(input_seq, Activation('softmax')(logits))\n",
    "    model.compile(loss=sparse_categorical_crossentropy,\n",
    "                  optimizer=Adam(learning_rate),\n",
    "                  metrics=['accuracy'])\n",
    "    return model\n",
    "#tests.test_simple_model(simple_model)\n",
    "\n",
    "# Reshaping the input to work with a basic RNN\n",
    "tmp_x = pad(preproc_english_sentences, max_french_sequence_length) #tmp_x.shape =(137861, 21)\n",
    "tmp_x = tmp_x.reshape((-1, preproc_french_sentences.shape[-2], 1)) #tmp_x.shape =(137861, 21,1)\n",
    "\n",
    "# Train the neural network\n",
    "simple_rnn_model = simple_model(\n",
    "    tmp_x.shape,\n",
    "    max_french_sequence_length,\n",
    "    english_vocab_size,\n",
    "    french_vocab_size)\n",
    "simple_rnn_model.fit(tmp_x, preproc_french_sentences, batch_size=1024, epochs=20, validation_split=0.2)\n",
    "\n",
    "# Print prediction(s)\n",
    "print(logits_to_text(simple_rnn_model.predict(tmp_x[:1])[0], french_tokenizer))\n",
    "print(\"The ground truth is\")\n",
    "print(french_sentences[0])\n",
    "tmp_x = None"
   ]
  },
  {
   "cell_type": "markdown",
   "metadata": {},
   "source": [
    "### Model 2: Embedding (IMPLEMENTATION)\n",
    "![RNN](images/embedding.png)\n",
    "You've turned the words into ids, but there's a better representation of a word.  This is called word embeddings.  An embedding is a vector representation of the word that is close to similar words in n-dimensional space, where the n represents the size of the embedding vectors.\n",
    "\n",
    "In this model, you'll create a RNN model using embedding."
   ]
  },
  {
   "cell_type": "code",
   "execution_count": 12,
   "metadata": {
    "scrolled": false
   },
   "outputs": [
    {
     "name": "stdout",
     "output_type": "stream",
     "text": [
      "_________________________________________________________________\n",
      "Layer (type)                 Output Shape              Param #   \n",
      "=================================================================\n",
      "input_3 (InputLayer)         (None, 21)                0         \n",
      "_________________________________________________________________\n",
      "embedding_2 (Embedding)      (None, 21, 100)           19900     \n",
      "_________________________________________________________________\n",
      "gru_3 (GRU)                  (None, 21, 128)           87936     \n",
      "_________________________________________________________________\n",
      "time_distributed_3 (TimeDist (None, 21, 344)           44376     \n",
      "_________________________________________________________________\n",
      "activation_3 (Activation)    (None, 21, 344)           0         \n",
      "=================================================================\n",
      "Total params: 152,212\n",
      "Trainable params: 152,212\n",
      "Non-trainable params: 0\n",
      "_________________________________________________________________\n",
      "Train on 110288 samples, validate on 27573 samples\n",
      "Epoch 1/20\n",
      "110288/110288 [==============================] - 10s 86us/step - loss: 3.4250 - acc: 0.4016 - val_loss: nan - val_acc: 0.4227\n",
      "Epoch 2/20\n",
      "110288/110288 [==============================] - 9s 83us/step - loss: 2.3018 - acc: 0.5056 - val_loss: nan - val_acc: 0.5779\n",
      "Epoch 3/20\n",
      "110288/110288 [==============================] - 9s 83us/step - loss: 1.5146 - acc: 0.6339 - val_loss: nan - val_acc: 0.6939\n",
      "Epoch 4/20\n",
      "110288/110288 [==============================] - 9s 83us/step - loss: 1.1351 - acc: 0.7292 - val_loss: nan - val_acc: 0.7569\n",
      "Epoch 5/20\n",
      "110288/110288 [==============================] - 9s 83us/step - loss: 0.8883 - acc: 0.7741 - val_loss: nan - val_acc: 0.7919\n",
      "Epoch 6/20\n",
      "110288/110288 [==============================] - 9s 83us/step - loss: 0.7184 - acc: 0.8055 - val_loss: nan - val_acc: 0.8203\n",
      "Epoch 7/20\n",
      "110288/110288 [==============================] - 9s 83us/step - loss: 0.6047 - acc: 0.8295 - val_loss: nan - val_acc: 0.8407\n",
      "Epoch 8/20\n",
      "110288/110288 [==============================] - 9s 83us/step - loss: 0.5274 - acc: 0.8476 - val_loss: nan - val_acc: 0.8548\n",
      "Epoch 9/20\n",
      "110288/110288 [==============================] - 9s 83us/step - loss: 0.4704 - acc: 0.8623 - val_loss: nan - val_acc: 0.8690\n",
      "Epoch 10/20\n",
      "110288/110288 [==============================] - 9s 83us/step - loss: 0.4264 - acc: 0.8743 - val_loss: nan - val_acc: 0.8785\n",
      "Epoch 11/20\n",
      "110288/110288 [==============================] - 9s 83us/step - loss: 0.3933 - acc: 0.8827 - val_loss: nan - val_acc: 0.8869\n",
      "Epoch 12/20\n",
      "110288/110288 [==============================] - 9s 82us/step - loss: 0.3655 - acc: 0.8897 - val_loss: nan - val_acc: 0.8915\n",
      "Epoch 13/20\n",
      "110288/110288 [==============================] - 9s 83us/step - loss: 0.3430 - acc: 0.8957 - val_loss: nan - val_acc: 0.8986\n",
      "Epoch 14/20\n",
      "110288/110288 [==============================] - 9s 83us/step - loss: 0.3235 - acc: 0.9008 - val_loss: nan - val_acc: 0.9032\n",
      "Epoch 15/20\n",
      "110288/110288 [==============================] - 9s 82us/step - loss: 0.3094 - acc: 0.9045 - val_loss: nan - val_acc: 0.9063\n",
      "Epoch 16/20\n",
      "110288/110288 [==============================] - 9s 83us/step - loss: 0.2976 - acc: 0.9075 - val_loss: nan - val_acc: 0.9087\n",
      "Epoch 17/20\n",
      "110288/110288 [==============================] - 9s 82us/step - loss: 0.2847 - acc: 0.9112 - val_loss: nan - val_acc: 0.9118\n",
      "Epoch 18/20\n",
      "110288/110288 [==============================] - 9s 83us/step - loss: 0.2757 - acc: 0.9135 - val_loss: nan - val_acc: 0.9141\n",
      "Epoch 19/20\n",
      "110288/110288 [==============================] - 9s 82us/step - loss: 0.2667 - acc: 0.9161 - val_loss: nan - val_acc: 0.9165\n",
      "Epoch 20/20\n",
      "110288/110288 [==============================] - 9s 82us/step - loss: 0.2588 - acc: 0.9182 - val_loss: nan - val_acc: 0.9179\n"
     ]
    },
    {
     "data": {
      "text/plain": [
       "<keras.callbacks.History at 0x7f274274e240>"
      ]
     },
     "execution_count": 12,
     "metadata": {},
     "output_type": "execute_result"
    }
   ],
   "source": [
    "def embed_model(input_shape, output_sequence_length, english_vocab_size, french_vocab_size):\n",
    "    \"\"\"\n",
    "    Build and train a RNN model using word embedding on x and y\n",
    "    :param input_shape: Tuple of input shape\n",
    "    :param output_sequence_length: Length of output sequence\n",
    "    :param english_vocab_size: Number of unique English words in the dataset\n",
    "    :param french_vocab_size: Number of unique French words in the dataset\n",
    "    :return: Keras model built, but not trained\n",
    "    \"\"\"\n",
    "    # TODO: Implement\n",
    "    learning_rate = 1e-3\n",
    "    embedding_size = 100\n",
    "    hidden_size = 128\n",
    "    \n",
    "    input_seq = Input(input_shape[1:])  #(?, 21)  \n",
    "    input_embedding = Embedding(english_vocab_size, \n",
    "                                embedding_size, \n",
    "                                input_length=input_shape[1])(input_seq) # (?, 21, 100)\n",
    "    rnn = GRU(hidden_size,return_sequences=True)(input_embedding) #(?, ?, 128)\n",
    "    logits = TimeDistributed(Dense(french_vocab_size))(rnn) #(?, 21, 344)\n",
    "       \n",
    "    model = Model(input_seq, Activation('softmax')(logits))\n",
    "    model.compile(loss=sparse_categorical_crossentropy,\n",
    "                  optimizer=Adam(learning_rate),\n",
    "                  metrics=['accuracy'])\n",
    "    \n",
    "    return model\n",
    "tests.test_embed_model(embed_model)\n",
    "\n",
    "# TODO: Reshape the input\n",
    "preproc_english_sentences_post, preproc_french_sentences_post, english_tokenizer_post, french_tokenizer_post =\\\n",
    "    preprocess(english_sentences, french_sentences, padding=\"post\")\n",
    "\n",
    "tmp_x1 = pad(preproc_english_sentences_post, max_french_sequence_length, padding=\"post\") #(137861, 21)\n",
    "tmp_x1 = tmp_x1.reshape((-1, preproc_french_sentences_post.shape[-2])) #(137861, 21)\n",
    "\n",
    "embed_rnn_model = embed_model(tmp_x1.shape, \n",
    "                              max_french_sequence_length, \n",
    "                              english_vocab_size, \n",
    "                              french_vocab_size)\n",
    "\n",
    "# TODO: Train the neural network\n",
    "embed_rnn_model.summary()\n",
    "embed_rnn_model.fit(tmp_x1, \n",
    "                     preproc_french_sentences_post, \n",
    "                     batch_size=1024, \n",
    "                     epochs=20, \n",
    "                     validation_split=0.2)\n"
   ]
  },
  {
   "cell_type": "code",
   "execution_count": 13,
   "metadata": {
    "scrolled": true
   },
   "outputs": [
    {
     "name": "stdout",
     "output_type": "stream",
     "text": [
      "new jersey est parfois calme en l' et il il neigeux en en <PAD> <PAD> <PAD> <PAD> <PAD> <PAD> <PAD> <PAD>\n",
      "The ground truth is\n",
      "new jersey est parfois calme pendant l' automne , et il est neigeux en avril .\n"
     ]
    }
   ],
   "source": [
    "# TODO: Print prediction(s)\n",
    "print(logits_to_text(embed_rnn_model.predict(tmp_x1[:1])[0], french_tokenizer))\n",
    "print(\"The ground truth is\")\n",
    "print(french_sentences[0])\n",
    "tmp_x1 = None"
   ]
  },
  {
   "cell_type": "markdown",
   "metadata": {},
   "source": [
    "### Model 3: Bidirectional RNNs (IMPLEMENTATION)\n",
    "![RNN](images/bidirectional.png)\n",
    "One restriction of a RNN is that it can't see the future input, only the past.  This is where bidirectional recurrent neural networks come in.  They are able to see the future data."
   ]
  },
  {
   "cell_type": "code",
   "execution_count": 14,
   "metadata": {
    "scrolled": false
   },
   "outputs": [
    {
     "name": "stdout",
     "output_type": "stream",
     "text": [
      "_________________________________________________________________\n",
      "Layer (type)                 Output Shape              Param #   \n",
      "=================================================================\n",
      "input_4 (InputLayer)         (None, 21, 1)             0         \n",
      "_________________________________________________________________\n",
      "bidirectional_1 (Bidirection (None, 21, 256)           99840     \n",
      "_________________________________________________________________\n",
      "time_distributed_4 (TimeDist (None, 21, 344)           88408     \n",
      "_________________________________________________________________\n",
      "activation_4 (Activation)    (None, 21, 344)           0         \n",
      "=================================================================\n",
      "Total params: 188,248\n",
      "Trainable params: 188,248\n",
      "Non-trainable params: 0\n",
      "_________________________________________________________________\n",
      "Train on 110288 samples, validate on 27573 samples\n",
      "Epoch 1/20\n",
      "110288/110288 [==============================] - 13s 114us/step - loss: 2.4805 - acc: 0.5210 - val_loss: nan - val_acc: 0.5858\n",
      "Epoch 2/20\n",
      "110288/110288 [==============================] - 12s 109us/step - loss: 1.4922 - acc: 0.6090 - val_loss: nan - val_acc: 0.6250\n",
      "Epoch 3/20\n",
      "110288/110288 [==============================] - 12s 109us/step - loss: 1.3134 - acc: 0.6348 - val_loss: nan - val_acc: 0.6424\n",
      "Epoch 4/20\n",
      "110288/110288 [==============================] - 12s 109us/step - loss: 1.2203 - acc: 0.6516 - val_loss: nan - val_acc: 0.6571\n",
      "Epoch 5/20\n",
      "110288/110288 [==============================] - 12s 110us/step - loss: 1.1521 - acc: 0.6638 - val_loss: nan - val_acc: 0.6726\n",
      "Epoch 6/20\n",
      "110288/110288 [==============================] - 12s 109us/step - loss: 1.0979 - acc: 0.6746 - val_loss: nan - val_acc: 0.6797\n",
      "Epoch 7/20\n",
      "110288/110288 [==============================] - 12s 109us/step - loss: 1.0509 - acc: 0.6831 - val_loss: nan - val_acc: 0.6856\n",
      "Epoch 8/20\n",
      "110288/110288 [==============================] - 12s 109us/step - loss: 1.0108 - acc: 0.6895 - val_loss: nan - val_acc: 0.6929\n",
      "Epoch 9/20\n",
      "110288/110288 [==============================] - 12s 110us/step - loss: 0.9765 - acc: 0.6958 - val_loss: nan - val_acc: 0.6989\n",
      "Epoch 10/20\n",
      "110288/110288 [==============================] - 12s 110us/step - loss: 0.9464 - acc: 0.7010 - val_loss: nan - val_acc: 0.7040\n",
      "Epoch 11/20\n",
      "110288/110288 [==============================] - 12s 109us/step - loss: 0.9205 - acc: 0.7050 - val_loss: nan - val_acc: 0.7065\n",
      "Epoch 12/20\n",
      "110288/110288 [==============================] - 12s 110us/step - loss: 0.8964 - acc: 0.7094 - val_loss: nan - val_acc: 0.7123\n",
      "Epoch 13/20\n",
      "110288/110288 [==============================] - 12s 109us/step - loss: 0.8739 - acc: 0.7134 - val_loss: nan - val_acc: 0.7166\n",
      "Epoch 14/20\n",
      "110288/110288 [==============================] - 12s 109us/step - loss: 0.8521 - acc: 0.7173 - val_loss: nan - val_acc: 0.7167\n",
      "Epoch 15/20\n",
      "110288/110288 [==============================] - 12s 109us/step - loss: 0.8327 - acc: 0.7213 - val_loss: nan - val_acc: 0.7199\n",
      "Epoch 16/20\n",
      "110288/110288 [==============================] - 12s 109us/step - loss: 0.8146 - acc: 0.7249 - val_loss: nan - val_acc: 0.7245\n",
      "Epoch 17/20\n",
      "110288/110288 [==============================] - 12s 109us/step - loss: 0.7994 - acc: 0.7286 - val_loss: nan - val_acc: 0.7319\n",
      "Epoch 18/20\n",
      "110288/110288 [==============================] - 12s 110us/step - loss: 0.7851 - acc: 0.7321 - val_loss: nan - val_acc: 0.7309\n",
      "Epoch 19/20\n",
      "110288/110288 [==============================] - 12s 109us/step - loss: 0.7732 - acc: 0.7348 - val_loss: nan - val_acc: 0.7350\n",
      "Epoch 20/20\n",
      "110288/110288 [==============================] - 12s 110us/step - loss: 0.7598 - acc: 0.7387 - val_loss: nan - val_acc: 0.7384\n",
      "new jersey est parfois calme en l' et il il il en en en <PAD> <PAD> <PAD> <PAD> <PAD> <PAD> <PAD>\n",
      "The ground truth is\n",
      "new jersey est parfois calme pendant l' automne , et il est neigeux en avril .\n"
     ]
    }
   ],
   "source": [
    "from keras.models import Sequential\n",
    "def bd_model(input_shape, output_sequence_length, english_vocab_size, french_vocab_size):\n",
    "    \"\"\"\n",
    "    Build and train a bidirectional RNN model on x and y\n",
    "    :param input_shape: Tuple of input shape\n",
    "    :param output_sequence_length: Length of output sequence\n",
    "    :param english_vocab_size: Number of unique English words in the dataset\n",
    "    :param french_vocab_size: Number of unique French words in the dataset\n",
    "    :return: Keras model built, but not trained\n",
    "    \"\"\"\n",
    "    # TODO: Implement\n",
    "    learning_rate = 1.2e-3\n",
    "    embedding_size = 100\n",
    "    hidden_size  = 128\n",
    "\n",
    "    input_seq = Input(input_shape[1:]) #(?, 21)\n",
    " \n",
    "    #input_embedding = Embedding(english_vocab_size, \n",
    "    #                            embedding_size, \n",
    "    #                            input_length=input_shape[1])(input_seq) #(?, 21, 100)\n",
    "    #rnn = Bidirectional(GRU(hidden_size,return_sequences=True))(input_embedding) #(?, ?, 256)\n",
    "    rnn = Bidirectional(GRU(hidden_size,return_sequences=True))(input_seq) #(?, ?, 256)    \n",
    "    logits = TimeDistributed(Dense(french_vocab_size))(rnn) #(?, 21, 344)\n",
    "    model = Model(input_seq, Activation('softmax')(logits))\n",
    "    model.compile(loss=sparse_categorical_crossentropy,\n",
    "                  optimizer=Adam(learning_rate),\n",
    "                  metrics=['accuracy'])\n",
    "    return model\n",
    "#tests.test_bd_model(bd_model)\n",
    "# Reshaping the input to work with a basic RNN\n",
    "tmp_x2 = pad(preproc_english_sentences, max_french_sequence_length) #(137861, 21)\n",
    "tmp_x2 = tmp_x2.reshape((-1, preproc_french_sentences.shape[-2],1)) #(137861, 21)\n",
    "\n",
    "# Train the neural network\n",
    "bd_rnn_model = bd_model(\n",
    "    tmp_x2.shape,\n",
    "    max_french_sequence_length,\n",
    "    english_vocab_size,\n",
    "    french_vocab_size)\n",
    "bd_rnn_model.summary()\n",
    "history = bd_rnn_model.fit(tmp_x2, preproc_french_sentences, batch_size=1024, epochs=20, validation_split=0.2)\n",
    "\n",
    "# Print prediction(s)\n",
    "print(logits_to_text(bd_rnn_model.predict(tmp_x2[:1])[0], french_tokenizer))\n",
    "print(\"The ground truth is\")\n",
    "print(french_sentences[0])\n",
    "tmp_x2=None"
   ]
  },
  {
   "cell_type": "code",
   "execution_count": 15,
   "metadata": {},
   "outputs": [
    {
     "data": {
      "image/png": "[encoded data removed]",
      "text/plain": [
       "<matplotlib.figure.Figure at 0x7f274275b748>"
      ]
     },
     "metadata": {
      "needs_background": "light"
     },
     "output_type": "display_data"
    }
   ],
   "source": [
    "import matplotlib.pyplot as plt\n",
    "%matplotlib inline\n",
    "plt.plot(history.history['loss'])\n",
    "\n",
    "plt.xlabel('Epoch')\n",
    "plt.ylabel('Mean Absolute Error Loss')\n",
    "plt.title('Loss Over Time');"
   ]
  },
  {
   "cell_type": "markdown",
   "metadata": {},
   "source": [
    "### Model 4: Encoder-Decoder (OPTIONAL)\n",
    "Time to look at encoder-decoder models.  This model is made up of an encoder and decoder. The encoder creates a matrix representation of the sentence.  The decoder takes this matrix as input and predicts the translation as output.\n",
    "\n",
    "Create an encoder-decoder model in the cell below."
   ]
  },
  {
   "cell_type": "code",
   "execution_count": 16,
   "metadata": {
    "scrolled": false
   },
   "outputs": [
    {
     "name": "stdout",
     "output_type": "stream",
     "text": [
      "_________________________________________________________________\n",
      "Layer (type)                 Output Shape              Param #   \n",
      "=================================================================\n",
      "input_5 (InputLayer)         (None, 15)                0         \n",
      "_________________________________________________________________\n",
      "embedding_3 (Embedding)      (None, 15, 100)           19900     \n",
      "_________________________________________________________________\n",
      "gru_5 (GRU)                  (None, 128)               87936     \n",
      "_________________________________________________________________\n",
      "repeat_vector_1 (RepeatVecto (None, 21, 128)           0         \n",
      "_________________________________________________________________\n",
      "gru_6 (GRU)                  (None, 21, 128)           98688     \n",
      "_________________________________________________________________\n",
      "time_distributed_5 (TimeDist (None, 21, 344)           44376     \n",
      "_________________________________________________________________\n",
      "activation_5 (Activation)    (None, 21, 344)           0         \n",
      "=================================================================\n",
      "Total params: 250,900\n",
      "Trainable params: 250,900\n",
      "Non-trainable params: 0\n",
      "_________________________________________________________________\n",
      "Train on 110288 samples, validate on 27573 samples\n",
      "Epoch 1/20\n",
      "110288/110288 [==============================] - 13s 118us/step - loss: 3.4021 - acc: 0.4144 - val_loss: nan - val_acc: 0.4444\n",
      "Epoch 2/20\n",
      "110288/110288 [==============================] - 12s 113us/step - loss: 2.4672 - acc: 0.4824 - val_loss: nan - val_acc: 0.5121\n",
      "Epoch 3/20\n",
      "110288/110288 [==============================] - 12s 113us/step - loss: 2.2149 - acc: 0.5105 - val_loss: nan - val_acc: 0.5122\n",
      "Epoch 4/20\n",
      "110288/110288 [==============================] - 12s 113us/step - loss: 1.9778 - acc: 0.5224 - val_loss: nan - val_acc: 0.5400\n",
      "Epoch 5/20\n",
      "110288/110288 [==============================] - 13s 114us/step - loss: 1.7750 - acc: 0.5583 - val_loss: nan - val_acc: 0.5719\n",
      "Epoch 6/20\n",
      "110288/110288 [==============================] - 12s 113us/step - loss: 1.6231 - acc: 0.5786 - val_loss: nan - val_acc: 0.5910\n",
      "Epoch 7/20\n",
      "110288/110288 [==============================] - 13s 114us/step - loss: 1.5202 - acc: 0.5973 - val_loss: nan - val_acc: 0.6042\n",
      "Epoch 8/20\n",
      "110288/110288 [==============================] - 12s 113us/step - loss: 1.4486 - acc: 0.6090 - val_loss: nan - val_acc: 0.6149\n",
      "Epoch 9/20\n",
      "110288/110288 [==============================] - 12s 113us/step - loss: 1.3931 - acc: 0.6169 - val_loss: nan - val_acc: 0.6221\n",
      "Epoch 10/20\n",
      "110288/110288 [==============================] - 12s 113us/step - loss: 1.3469 - acc: 0.6247 - val_loss: nan - val_acc: 0.6277\n",
      "Epoch 11/20\n",
      "110288/110288 [==============================] - 12s 113us/step - loss: 1.3066 - acc: 0.6327 - val_loss: nan - val_acc: 0.6373\n",
      "Epoch 12/20\n",
      "110288/110288 [==============================] - 12s 113us/step - loss: 1.2696 - acc: 0.6430 - val_loss: nan - val_acc: 0.6518\n",
      "Epoch 13/20\n",
      "110288/110288 [==============================] - 12s 113us/step - loss: 1.2281 - acc: 0.6552 - val_loss: nan - val_acc: 0.6611\n",
      "Epoch 14/20\n",
      "110288/110288 [==============================] - 12s 113us/step - loss: 1.1858 - acc: 0.6649 - val_loss: nan - val_acc: 0.6748\n",
      "Epoch 15/20\n",
      "110288/110288 [==============================] - 12s 113us/step - loss: 1.1409 - acc: 0.6764 - val_loss: nan - val_acc: 0.6809\n",
      "Epoch 16/20\n",
      "110288/110288 [==============================] - 13s 114us/step - loss: 1.1081 - acc: 0.6834 - val_loss: nan - val_acc: 0.6818\n",
      "Epoch 17/20\n",
      "110288/110288 [==============================] - 12s 113us/step - loss: 1.0764 - acc: 0.6919 - val_loss: nan - val_acc: 0.6973\n",
      "Epoch 18/20\n",
      "110288/110288 [==============================] - 12s 113us/step - loss: 1.0486 - acc: 0.6982 - val_loss: nan - val_acc: 0.7023\n",
      "Epoch 19/20\n",
      "110288/110288 [==============================] - 12s 113us/step - loss: 1.0235 - acc: 0.7035 - val_loss: nan - val_acc: 0.7052\n",
      "Epoch 20/20\n",
      "110288/110288 [==============================] - 12s 113us/step - loss: 1.0052 - acc: 0.7071 - val_loss: nan - val_acc: 0.7073\n",
      "new jersey est parfois agréable en l'automne mais il est parfois en en <PAD> <PAD> <PAD> <PAD> <PAD> <PAD> <PAD> <PAD>\n",
      "The ground truth is\n",
      "new jersey est parfois calme pendant l' automne , et il est neigeux en avril .\n"
     ]
    }
   ],
   "source": [
    "def encdec_model(input_shape, output_sequence_length, english_vocab_size, french_vocab_size):\n",
    "    \"\"\"\n",
    "    Build and train an encoder-decoder model on x and y\n",
    "    :param input_shape: Tuple of input shape\n",
    "    :param output_sequence_length: Length of output sequence\n",
    "    :param english_vocab_size: Number of unique English words in the dataset\n",
    "    :param french_vocab_size: Number of unique French words in the dataset\n",
    "    :return: Keras model built, but not trained\n",
    "    \"\"\"\n",
    "    # OPTIONAL: Implement\n",
    "    learning_rate = 0.8e-3\n",
    "    embedding_size = 100\n",
    "    hidden_size = 128\n",
    "    \n",
    "    input_seq = Input((max_english_sequence_length,)) #(?, 21)\n",
    " \n",
    "    input_embedding = Embedding(english_vocab_size, \n",
    "                                embedding_size, \n",
    "                                )(input_seq)  #(?, 21, 100)\n",
    "     \n",
    "    encoded = GRU(hidden_size,return_state=False)(input_embedding) #(?, 128)     \n",
    "    decoded = RepeatVector(output_sequence_length)(encoded) #(?, 21, 128)          \n",
    "    decoded = GRU(hidden_size, return_sequences=True)(decoded) #(?, ?, 128)           \n",
    "    logits = TimeDistributed(Dense(french_vocab_size))(decoded) #(?, 21, 344)\n",
    "             \n",
    "    model = Model(input_seq, Activation('softmax')(logits))\n",
    "    model.compile(loss=sparse_categorical_crossentropy,\n",
    "                  optimizer=Adam(learning_rate),\n",
    "                  metrics=['accuracy'])\n",
    "    return model\n",
    "#tests.test_encdec_model(encdec_model)\n",
    "\n",
    "# OPTIONAL: Train and Print prediction(s)\n",
    "# TODO: Reshape the input\n",
    "tmp_x3 = pad(preproc_english_sentences, max_english_sequence_length) #(137861, 21)\n",
    "tmp_x3 = tmp_x3.reshape((-1, max_english_sequence_length))\n",
    "encdec_rnn_model = encdec_model(tmp_x3.shape, \n",
    "                              max_french_sequence_length, \n",
    "                              english_vocab_size, \n",
    "                              french_vocab_size)\n",
    "encdec_rnn_model.summary()\n",
    "# TODO: Train the neural network\n",
    "encdec_rnn_model.fit(tmp_x3, \n",
    "                     preproc_french_sentences, \n",
    "                     batch_size=1024, \n",
    "                     epochs=20, \n",
    "                     validation_split=0.2)\n",
    "# Print prediction(s)\n",
    "print(logits_to_text(encdec_rnn_model.predict(tmp_x3[:1])[0], french_tokenizer))\n",
    "print(\"The ground truth is\")\n",
    "print(french_sentences[0])\n",
    "tmp_x3=None"
   ]
  },
  {
   "cell_type": "markdown",
   "metadata": {},
   "source": [
    "### Model 5: Custom (IMPLEMENTATION)\n",
    "Use everything you learned from the previous models to create a model that incorporates embedding and a bidirectional rnn into one model."
   ]
  },
  {
   "cell_type": "code",
   "execution_count": 17,
   "metadata": {
    "scrolled": false
   },
   "outputs": [
    {
     "name": "stdout",
     "output_type": "stream",
     "text": [
      "Train on 110288 samples, validate on 27573 samples\n",
      "Epoch 1/40\n",
      "110288/110288 [==============================] - 24s 218us/step - loss: 3.0190 - acc: 0.4421 - val_loss: nan - val_acc: 0.4935\n",
      "Epoch 2/40\n",
      "110288/110288 [==============================] - 23s 209us/step - loss: 1.9071 - acc: 0.5284 - val_loss: nan - val_acc: 0.5656\n",
      "Epoch 3/40\n",
      "110288/110288 [==============================] - 23s 208us/step - loss: 1.5318 - acc: 0.5976 - val_loss: nan - val_acc: 0.6300\n",
      "Epoch 4/40\n",
      "110288/110288 [==============================] - 23s 208us/step - loss: 1.3153 - acc: 0.6433 - val_loss: nan - val_acc: 0.6631\n",
      "Epoch 5/40\n",
      "110288/110288 [==============================] - 23s 209us/step - loss: 1.1628 - acc: 0.6813 - val_loss: nan - val_acc: 0.6972\n",
      "Epoch 6/40\n",
      "110288/110288 [==============================] - 23s 209us/step - loss: 1.0563 - acc: 0.7040 - val_loss: nan - val_acc: 0.7154\n",
      "Epoch 7/40\n",
      "110288/110288 [==============================] - 23s 209us/step - loss: 0.9777 - acc: 0.7210 - val_loss: nan - val_acc: 0.7277\n",
      "Epoch 8/40\n",
      "110288/110288 [==============================] - 23s 209us/step - loss: 0.9140 - acc: 0.7338 - val_loss: nan - val_acc: 0.7400\n",
      "Epoch 9/40\n",
      "110288/110288 [==============================] - 23s 209us/step - loss: 0.8597 - acc: 0.7461 - val_loss: nan - val_acc: 0.7549\n",
      "Epoch 10/40\n",
      "110288/110288 [==============================] - 23s 209us/step - loss: 0.8029 - acc: 0.7616 - val_loss: nan - val_acc: 0.7702\n",
      "Epoch 11/40\n",
      "110288/110288 [==============================] - 23s 209us/step - loss: 0.7526 - acc: 0.7765 - val_loss: nan - val_acc: 0.7826\n",
      "Epoch 12/40\n",
      "110288/110288 [==============================] - 23s 209us/step - loss: 0.7040 - acc: 0.7908 - val_loss: nan - val_acc: 0.7971\n",
      "Epoch 13/40\n",
      "110288/110288 [==============================] - 23s 209us/step - loss: 0.6637 - acc: 0.8027 - val_loss: nan - val_acc: 0.8082\n",
      "Epoch 14/40\n",
      "110288/110288 [==============================] - 23s 208us/step - loss: 0.6217 - acc: 0.8157 - val_loss: nan - val_acc: 0.8178\n",
      "Epoch 15/40\n",
      "110288/110288 [==============================] - 23s 206us/step - loss: 0.5839 - acc: 0.8268 - val_loss: nan - val_acc: 0.8300\n",
      "Epoch 16/40\n",
      "110288/110288 [==============================] - 23s 207us/step - loss: 0.5434 - acc: 0.8393 - val_loss: nan - val_acc: 0.8389\n",
      "Epoch 17/40\n",
      "110288/110288 [==============================] - 23s 207us/step - loss: 0.5067 - acc: 0.8509 - val_loss: nan - val_acc: 0.8573\n",
      "Epoch 18/40\n",
      "110288/110288 [==============================] - 23s 207us/step - loss: 0.4653 - acc: 0.8645 - val_loss: nan - val_acc: 0.8679\n",
      "Epoch 19/40\n",
      "110288/110288 [==============================] - 23s 208us/step - loss: 0.4307 - acc: 0.8762 - val_loss: nan - val_acc: 0.8816\n",
      "Epoch 20/40\n",
      "110288/110288 [==============================] - 23s 209us/step - loss: 0.4000 - acc: 0.8870 - val_loss: nan - val_acc: 0.8891\n",
      "Epoch 21/40\n",
      "110288/110288 [==============================] - 23s 209us/step - loss: 0.3731 - acc: 0.8950 - val_loss: nan - val_acc: 0.8979\n",
      "Epoch 22/40\n",
      "110288/110288 [==============================] - 23s 209us/step - loss: 0.3425 - acc: 0.9045 - val_loss: nan - val_acc: 0.9034\n",
      "Epoch 23/40\n",
      "110288/110288 [==============================] - 23s 209us/step - loss: 0.3184 - acc: 0.9113 - val_loss: nan - val_acc: 0.9142\n",
      "Epoch 24/40\n",
      "110288/110288 [==============================] - 23s 209us/step - loss: 0.2916 - acc: 0.9191 - val_loss: nan - val_acc: 0.9216\n",
      "Epoch 25/40\n",
      "110288/110288 [==============================] - 23s 209us/step - loss: 0.2694 - acc: 0.9256 - val_loss: nan - val_acc: 0.9253\n",
      "Epoch 26/40\n",
      "110288/110288 [==============================] - 23s 209us/step - loss: 0.2497 - acc: 0.9313 - val_loss: nan - val_acc: 0.9310\n",
      "Epoch 27/40\n",
      "110288/110288 [==============================] - 23s 209us/step - loss: 0.2268 - acc: 0.9386 - val_loss: nan - val_acc: 0.9353\n",
      "Epoch 28/40\n",
      "110288/110288 [==============================] - 23s 209us/step - loss: 0.2152 - acc: 0.9417 - val_loss: nan - val_acc: 0.9398\n",
      "Epoch 29/40\n",
      "110288/110288 [==============================] - 23s 209us/step - loss: 0.1994 - acc: 0.9461 - val_loss: nan - val_acc: 0.9440\n",
      "Epoch 30/40\n",
      "110288/110288 [==============================] - 23s 208us/step - loss: 0.1856 - acc: 0.9497 - val_loss: nan - val_acc: 0.9475\n",
      "Epoch 31/40\n",
      "110288/110288 [==============================] - 23s 209us/step - loss: 0.1728 - acc: 0.9529 - val_loss: nan - val_acc: 0.9428\n",
      "Epoch 32/40\n",
      "110288/110288 [==============================] - 23s 209us/step - loss: 0.1620 - acc: 0.9558 - val_loss: nan - val_acc: 0.9549\n",
      "Epoch 33/40\n",
      "110288/110288 [==============================] - 23s 209us/step - loss: 0.1519 - acc: 0.9583 - val_loss: nan - val_acc: 0.9563\n",
      "Epoch 34/40\n",
      "110288/110288 [==============================] - 23s 209us/step - loss: 0.1445 - acc: 0.9602 - val_loss: nan - val_acc: 0.9581\n",
      "Epoch 35/40\n",
      "110288/110288 [==============================] - 23s 210us/step - loss: 0.1464 - acc: 0.9591 - val_loss: nan - val_acc: 0.9587\n",
      "Epoch 36/40\n",
      "110288/110288 [==============================] - 23s 210us/step - loss: 0.1276 - acc: 0.9647 - val_loss: nan - val_acc: 0.9611\n",
      "Epoch 37/40\n",
      "110288/110288 [==============================] - 23s 209us/step - loss: 0.1232 - acc: 0.9654 - val_loss: nan - val_acc: 0.9625\n",
      "Epoch 38/40\n",
      "110288/110288 [==============================] - 23s 209us/step - loss: 0.1176 - acc: 0.9669 - val_loss: nan - val_acc: 0.9636\n",
      "Epoch 39/40\n",
      "110288/110288 [==============================] - 23s 210us/step - loss: 0.1110 - acc: 0.9687 - val_loss: nan - val_acc: 0.9652\n",
      "Epoch 40/40\n",
      "110288/110288 [==============================] - 23s 209us/step - loss: 0.1125 - acc: 0.9681 - val_loss: nan - val_acc: 0.9654\n",
      "new jersey est parfois calme au l' automne et il et il en avril <PAD> <PAD> <PAD> <PAD> <PAD> <PAD> <PAD>\n",
      "The ground truth is\n",
      "new jersey est parfois calme pendant l' automne , et il est neigeux en avril .\n"
     ]
    }
   ],
   "source": [
    "\n",
    "def model_final(input_shape, output_sequence_length, english_vocab_size, french_vocab_size):\n",
    "    \"\"\"\n",
    "    Build and train a model that incorporates embedding, encoder-decoder, and bidirectional RNN on x and y\n",
    "    :param input_shape: Tuple of input shape\n",
    "    :param output_sequence_length: Length of output sequence\n",
    "    :param english_vocab_size: Number of unique English words in the dataset\n",
    "    :param french_vocab_size: Number of unique French words in the dataset\n",
    "    :return: Keras model built, but not trained\n",
    "    \"\"\"\n",
    "    # TODO: Implement\n",
    "    learning_rate = 1e-3\n",
    "    embedding_size = 100\n",
    "    hidden_size  = 128\n",
    "\n",
    "    encoder_input = Input((max_english_sequence_length,)) #(?, 21)\n",
    " \n",
    "    encoder_embedding = Embedding(english_vocab_size, \n",
    "                                embedding_size, \n",
    "                                )(encoder_input)  #(?, 21, 100)\n",
    "     \n",
    "    encoded = Bidirectional(GRU(hidden_size,return_state=False))(encoder_embedding) #(?, 128)     \n",
    "    decoded = RepeatVector(output_sequence_length)(encoded) #(?, 21, 128)          \n",
    "    decoded = Bidirectional(GRU(hidden_size, return_sequences=True))(decoded) #(?, ?, 128)           \n",
    "    logits = TimeDistributed(Dense(french_vocab_size))(decoded) #(?, 21, 344)\n",
    "             \n",
    "    model = Model(encoder_input, Activation('softmax')(logits))\n",
    "    model.compile(loss=sparse_categorical_crossentropy,\n",
    "                  optimizer=Adam(learning_rate),\n",
    "                  metrics=['accuracy'])\n",
    "    return model\n",
    "  \n",
    "# OPTIONAL: Train and Print prediction(s)\n",
    "# TODO: Reshape the input\n",
    "tmp_x3 = pad(preproc_english_sentences, max_english_sequence_length) #(137861, 21)\n",
    "tmp_x3 = tmp_x3.reshape((-1, max_english_sequence_length))\n",
    "final_model = model_final(tmp_x3.shape, \n",
    "                              max_french_sequence_length, \n",
    "                              english_vocab_size, \n",
    "                              french_vocab_size)\n",
    "\n",
    "# TODO: Train the neural network\n",
    "#encdec_rnn_model.summary()\n",
    "final_model.fit(tmp_x3, \n",
    "                     preproc_french_sentences, \n",
    "                     batch_size=1024, \n",
    "                     epochs=40, \n",
    "                     validation_split=0.2)\n",
    "# Print prediction(s)\n",
    "print(logits_to_text(final_model.predict(tmp_x3[:1])[0], french_tokenizer))\n",
    "print(\"The ground truth is\")\n",
    "print(french_sentences[0])\n",
    "tmp_x3=None    "
   ]
  },
  {
   "cell_type": "markdown",
   "metadata": {},
   "source": [
    "## Prediction (IMPLEMENTATION)"
   ]
  },
  {
   "cell_type": "code",
   "execution_count": 18,
   "metadata": {},
   "outputs": [
    {
     "name": "stdout",
     "output_type": "stream",
     "text": [
      "_________________________________________________________________\n",
      "Layer (type)                 Output Shape              Param #   \n",
      "=================================================================\n",
      "input_6 (InputLayer)         (None, 15)                0         \n",
      "_________________________________________________________________\n",
      "embedding_4 (Embedding)      (None, 15, 100)           19900     \n",
      "_________________________________________________________________\n",
      "bidirectional_2 (Bidirection (None, 256)               175872    \n",
      "_________________________________________________________________\n",
      "repeat_vector_2 (RepeatVecto (None, 21, 256)           0         \n",
      "_________________________________________________________________\n",
      "bidirectional_3 (Bidirection (None, 21, 256)           295680    \n",
      "_________________________________________________________________\n",
      "time_distributed_6 (TimeDist (None, 21, 344)           88408     \n",
      "_________________________________________________________________\n",
      "activation_6 (Activation)    (None, 21, 344)           0         \n",
      "=================================================================\n",
      "Total params: 579,860\n",
      "Trainable params: 579,860\n",
      "Non-trainable params: 0\n",
      "_________________________________________________________________\n"
     ]
    }
   ],
   "source": [
    "final_model.summary()"
   ]
  },
  {
   "cell_type": "code",
   "execution_count": 19,
   "metadata": {
    "scrolled": true
   },
   "outputs": [
    {
     "name": "stdout",
     "output_type": "stream",
     "text": [
      "Sample 1:\n",
      "ils ils en en en en <PAD> <PAD> <PAD> <PAD> <PAD> <PAD> <PAD> <PAD> <PAD> <PAD> <PAD> <PAD> <PAD> <PAD> <PAD>\n",
      "Il a vu un vieux camion jaune\n",
      "Sample 2:\n",
      "new jersey est parfois calme au l' automne et il et il en avril <PAD> <PAD> <PAD> <PAD> <PAD> <PAD> <PAD>\n",
      "new jersey est parfois calme pendant l' automne et il est neigeux en avril <PAD> <PAD> <PAD> <PAD> <PAD> <PAD> <PAD>\n"
     ]
    }
   ],
   "source": [
    "def final_predictions(x, y, x_tk, y_tk):\n",
    "    \"\"\"\n",
    "    Gets predictions using the final model\n",
    "    :param x: Preprocessed English data\n",
    "    :param y: Preprocessed French data\n",
    "    :param x_tk: English tokenizer\n",
    "    :param y_tk: French tokenizer\n",
    "    \"\"\"\n",
    "    # TODO: Train neural network using model_final\n",
    "    model = final_model\n",
    "\n",
    "    \n",
    "    ## DON'T EDIT ANYTHING BELOW THIS LINE\n",
    "    y_id_to_word = {value: key for key, value in y_tk.word_index.items()}\n",
    "    y_id_to_word[0] = '<PAD>'\n",
    "\n",
    "    sentence = 'he saw a old yellow truck'\n",
    "    sentence = [x_tk.word_index[word] for word in sentence.split()]\n",
    "    sentence = pad_sequences([sentence], maxlen=x.shape[-1], padding='pre')\n",
    "    sentences = np.array([sentence[0], x[0]])\n",
    "    predictions = model.predict(sentences, len(sentences))\n",
    "\n",
    "    print('Sample 1:')\n",
    "    print(' '.join([y_id_to_word[np.argmax(x)] for x in predictions[0]]))\n",
    "    print('Il a vu un vieux camion jaune')\n",
    "    print('Sample 2:')\n",
    "    print(' '.join([y_id_to_word[np.argmax(x)] for x in predictions[1]]))\n",
    "    print(' '.join([y_id_to_word[np.max(x)] for x in y[0]]))\n",
    "\n",
    "\n",
    "final_predictions(preproc_english_sentences, preproc_french_sentences, english_tokenizer, french_tokenizer)"
   ]
  },
  {
   "cell_type": "markdown",
   "metadata": {},
   "source": [
    "## Submission\n",
    "When you're ready to submit, complete the following steps:\n",
    "1. Review the [rubric](https://review.udacity.com/#!/rubrics/1004/view) to ensure your submission meets all requirements to pass\n",
    "2. Generate an HTML version of this notebook\n",
    "\n",
    "  - Run the next cell to attempt automatic generation (this is the recommended method in Workspaces)\n",
    "  - Navigate to **FILE -> Download as -> HTML (.html)**\n",
    "  - Manually generate a copy using `nbconvert` from your shell terminal\n",
    "```\n",
    "$ pip install nbconvert\n",
    "$ python -m nbconvert machine_translation.ipynb\n",
    "```\n",
    "  \n",
    "3. Submit the project\n",
    "\n",
    "  - If you are in a Workspace, simply click the \"Submit Project\" button (bottom towards the right)\n",
    "  \n",
    "  - Otherwise, add the following files into a zip archive and submit them \n",
    "  - `helper.py`\n",
    "  - `machine_translation.ipynb`\n",
    "  - `machine_translation.html`\n",
    "    - You can export the notebook by navigating to **File -> Download as -> HTML (.html)**."
   ]
  },
  {
   "cell_type": "markdown",
   "metadata": {},
   "source": [
    "### Generate the html\n",
    "\n",
    "**Save your notebook before running the next cell to generate the HTML output.** Then submit your project."
   ]
  },
  {
   "cell_type": "code",
   "execution_count": 20,
   "metadata": {
    "scrolled": true
   },
   "outputs": [
    {
     "data": {
      "text/plain": [
       "['[NbConvertApp] Converting notebook machine_translation.ipynb to html',\n",
       " '[NbConvertApp] Writing 403993 bytes to machine_translation.html',\n",
       " '[NbConvertApp] Converting notebook machine_translation-zh.ipynb to html',\n",
       " '[NbConvertApp] Writing 328614 bytes to machine_translation-zh.html']"
      ]
     },
     "execution_count": 20,
     "metadata": {},
     "output_type": "execute_result"
    }
   ],
   "source": [
    "# Save before you run this cell!\n",
    "!!jupyter nbconvert *.ipynb"
   ]
  },
  {
   "cell_type": "markdown",
   "metadata": {},
   "source": [
    "## Optional Enhancements\n",
    "\n",
    "This project focuses on learning various network architectures for machine translation, but we don't evaluate the models according to best practices by splitting the data into separate test & training sets -- so the model accuracy is overstated. Use the [`sklearn.model_selection.train_test_split()`](http://scikit-learn.org/stable/modules/generated/sklearn.model_selection.train_test_split.html) function to create separate training & test datasets, then retrain each of the models using only the training set and evaluate the prediction accuracy using the hold out test set. Does the \"best\" model change?"
   ]
  }
 ],
 "metadata": {
  "kernelspec": {
   "display_name": "Python 2",
   "language": "python",
   "name": "python2"
  },
  "language_info": {
   "codemirror_mode": {
    "name": "ipython",
    "version": 2
   },
   "file_extension": ".py",
   "mimetype": "text/x-python",
   "name": "python",
   "nbconvert_exporter": "python",
   "pygments_lexer": "ipython2",
   "version": "2.7.12"
  }
 },
 "nbformat": 4,
 "nbformat_minor": 1
}

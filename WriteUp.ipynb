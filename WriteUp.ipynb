{
 "cells": [
  {
   "cell_type": "markdown",
   "metadata": {},
   "source": [
    "# Deep Learning\n",
    "\n",
    "---\n",
    "<font size=\"3\">\n",
    "    \n",
    "Build convolutional networks for image recognition, recurrent networks for sequence generation, generative adversarial networks for image generation, and learn how to deploy models accessible from a website.\n",
    "</font>\n",
    "\n",
    "---"
   ]
  },
  {
   "cell_type": "markdown",
   "metadata": {},
   "source": [
    "## Projects"
   ]
  },
  {
   "cell_type": "markdown",
   "metadata": {},
   "source": [
    "### Project 1: Dog Breed Classifier\n",
    "\n",
    "Built Convolutional Neural Networks (CNN) to classify 133 dog breeds using transfer learning\n",
    "<table><tr>\n",
    "<td>\n",
    "\n",
    "<figure>\n",
    "    <kbd>\n",
    "    <img  src=\"./images/dog_breed.jpg\" alt=\"Drawing\" style=\"width: 450px;\"/>\n",
    "    <center>Predicted Dog Breed</center>\n",
    "    </kbd>    \n",
    "</figure></td>\n",
    "\n",
    "<td><figure>    \n",
    "    <kbd>\n",
    "    <img  src=\"./images/dog_breed1.jpg\" alt=\"Drawing\" style=\"width: 450px;\"/>\n",
    "    </kbd>\n",
    "    <center>Closest Predicted Dog Breed</center>\n",
    "</figure>\n",
    "  </td>  </tr></table>"
   ]
  },
  {
   "cell_type": "markdown",
   "metadata": {},
   "source": [
    "---"
   ]
  },
  {
   "cell_type": "markdown",
   "metadata": {},
   "source": [
    "### Project 2: Face Generation\n",
    "\n",
    "Trained a DCGAN on a dataset of faces.Then new images of faces that look as realistic as possble are generated:\n",
    "\n",
    "<figure>\n",
    "    <img  src=\"./images/face_generation.png\" alt=\"Drawing\" style=\"height: 500 width: 1000px;\"/>\n",
    "    <center>Generated Face</center>\n"
   ]
  },
  {
   "cell_type": "markdown",
   "metadata": {},
   "source": [
    "### Project 3: Generate TV Script\n",
    "\n",
    "\n",
    "RNN network is trained to generate Seinfeld TV scripts. The training data are part of the Seinfeld dataset of scripts from 9 seasons. \n",
    "\n",
    "<figure>\n",
    "    <kbd>\n",
    "    <img  src=\"./images/generated_tv_script.png\" alt=\"Drawing\" style=\"height: 500 width: 1000px;\"/></kbd>\n",
    "    <center>Generated fake TV script</center>\n"
   ]
  },
  {
   "cell_type": "markdown",
   "metadata": {},
   "source": [
    "### Project 4: CNN Model Deployment\n",
    "\n",
    "This project is to build a simple web page in which a user can type in a movie review and the trained RNN model behind the scene predicts whether the review is positive or negative. The model is trained on IMDB dataset and deployed using AWS SageMaker\n",
    "\n",
    "<figure>\n",
    "    <img  src=\"./images/sagemaker-architecture.png\" alt=\"Drawing\" style=\"width: 450px;\"/>\n",
    "    <center>Sagemaker Architecture</center>\n",
    "</figure>\n",
    "\n",
    "\n",
    "Example results:\n",
    "<table><tr>\n",
    "<td>\n",
    "\n",
    "<figure>\n",
    "    <img  src=\"./images/review1.JPG\" alt=\"Drawing\" style=\"width: 450px;\"/>\n",
    "    <center>Lidar Obstcle Detection</center>\n",
    "</figure></td>\n",
    "\n",
    "<td><figure>    \n",
    "    <kbd>\n",
    "    <img  src=\"./images/review2.JPG\" alt=\"Drawing\" style=\"width: 450px;\"/>\n",
    "    </kbd>\n",
    "    <center>Lidar Obstcle Detection</center>\n",
    "</figure>\n",
    "  </td>  </tr></table>"
   ]
  }
 ],
 "metadata": {
  "kernelspec": {
   "display_name": "Python 2",
   "language": "python",
   "name": "python2"
  },
  "language_info": {
   "codemirror_mode": {
    "name": "ipython",
    "version": 2
   },
   "file_extension": ".py",
   "mimetype": "text/x-python",
   "name": "python",
   "nbconvert_exporter": "python",
   "pygments_lexer": "ipython2",
   "version": "2.7.12"
  }
 },
 "nbformat": 4,
 "nbformat_minor": 2
}
